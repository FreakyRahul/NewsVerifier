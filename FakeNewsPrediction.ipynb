{
 "cells": [
  {
   "cell_type": "code",
   "execution_count": 1,
   "id": "45c0fbe6",
   "metadata": {},
   "outputs": [],
   "source": [
    "%matplotlib inline"
   ]
  },
  {
   "cell_type": "code",
   "execution_count": 2,
   "id": "00473dcf",
   "metadata": {},
   "outputs": [
    {
     "name": "stderr",
     "output_type": "stream",
     "text": [
      "C:\\Users\\RAHUL SHARMA\\anaconda3\\lib\\site-packages\\scipy\\__init__.py:155: UserWarning: A NumPy version >=1.18.5 and <1.26.0 is required for this version of SciPy (detected version 1.26.4\n",
      "  warnings.warn(f\"A NumPy version >={np_minversion} and <{np_maxversion}\"\n"
     ]
    }
   ],
   "source": [
    "import numpy as np\n",
    "import pandas as pd\n",
    "import matplotlib.pyplot as plt\n",
    "import re\n",
    "import nltk"
   ]
  },
  {
   "cell_type": "code",
   "execution_count": 3,
   "id": "ecf4486c",
   "metadata": {},
   "outputs": [],
   "source": [
    "dataset = pd.read_csv(\"news.csv\")"
   ]
  },
  {
   "cell_type": "code",
   "execution_count": 4,
   "id": "0ca48911",
   "metadata": {},
   "outputs": [
    {
     "data": {
      "text/plain": [
       "REAL    3171\n",
       "FAKE    3164\n",
       "Name: label, dtype: int64"
      ]
     },
     "execution_count": 4,
     "metadata": {},
     "output_type": "execute_result"
    }
   ],
   "source": [
    "dataset.label.value_counts()"
   ]
  },
  {
   "cell_type": "code",
   "execution_count": 5,
   "id": "e90fbd39",
   "metadata": {},
   "outputs": [],
   "source": [
    "label_map = {\n",
    "    'FAKE' : 0,\n",
    "    \"REAL\" : 1\n",
    "}\n",
    "dataset[\"new_label\"] = dataset[\"label\"].map(label_map)"
   ]
  },
  {
   "cell_type": "code",
   "execution_count": 6,
   "id": "e1632f93",
   "metadata": {},
   "outputs": [
    {
     "data": {
      "text/html": [
       "<div>\n",
       "<style scoped>\n",
       "    .dataframe tbody tr th:only-of-type {\n",
       "        vertical-align: middle;\n",
       "    }\n",
       "\n",
       "    .dataframe tbody tr th {\n",
       "        vertical-align: top;\n",
       "    }\n",
       "\n",
       "    .dataframe thead th {\n",
       "        text-align: right;\n",
       "    }\n",
       "</style>\n",
       "<table border=\"1\" class=\"dataframe\">\n",
       "  <thead>\n",
       "    <tr style=\"text-align: right;\">\n",
       "      <th></th>\n",
       "      <th>Unnamed: 0</th>\n",
       "      <th>title</th>\n",
       "      <th>text</th>\n",
       "      <th>label</th>\n",
       "      <th>new_label</th>\n",
       "    </tr>\n",
       "  </thead>\n",
       "  <tbody>\n",
       "    <tr>\n",
       "      <th>0</th>\n",
       "      <td>8476</td>\n",
       "      <td>You Can Smell Hillary’s Fear</td>\n",
       "      <td>Daniel Greenfield, a Shillman Journalism Fello...</td>\n",
       "      <td>FAKE</td>\n",
       "      <td>0</td>\n",
       "    </tr>\n",
       "    <tr>\n",
       "      <th>1</th>\n",
       "      <td>10294</td>\n",
       "      <td>Watch The Exact Moment Paul Ryan Committed Pol...</td>\n",
       "      <td>Google Pinterest Digg Linkedin Reddit Stumbleu...</td>\n",
       "      <td>FAKE</td>\n",
       "      <td>0</td>\n",
       "    </tr>\n",
       "    <tr>\n",
       "      <th>2</th>\n",
       "      <td>3608</td>\n",
       "      <td>Kerry to go to Paris in gesture of sympathy</td>\n",
       "      <td>U.S. Secretary of State John F. Kerry said Mon...</td>\n",
       "      <td>REAL</td>\n",
       "      <td>1</td>\n",
       "    </tr>\n",
       "    <tr>\n",
       "      <th>3</th>\n",
       "      <td>10142</td>\n",
       "      <td>Bernie supporters on Twitter erupt in anger ag...</td>\n",
       "      <td>— Kaydee King (@KaydeeKing) November 9, 2016 T...</td>\n",
       "      <td>FAKE</td>\n",
       "      <td>0</td>\n",
       "    </tr>\n",
       "    <tr>\n",
       "      <th>4</th>\n",
       "      <td>875</td>\n",
       "      <td>The Battle of New York: Why This Primary Matters</td>\n",
       "      <td>It's primary day in New York and front-runners...</td>\n",
       "      <td>REAL</td>\n",
       "      <td>1</td>\n",
       "    </tr>\n",
       "  </tbody>\n",
       "</table>\n",
       "</div>"
      ],
      "text/plain": [
       "   Unnamed: 0                                              title  \\\n",
       "0        8476                       You Can Smell Hillary’s Fear   \n",
       "1       10294  Watch The Exact Moment Paul Ryan Committed Pol...   \n",
       "2        3608        Kerry to go to Paris in gesture of sympathy   \n",
       "3       10142  Bernie supporters on Twitter erupt in anger ag...   \n",
       "4         875   The Battle of New York: Why This Primary Matters   \n",
       "\n",
       "                                                text label  new_label  \n",
       "0  Daniel Greenfield, a Shillman Journalism Fello...  FAKE          0  \n",
       "1  Google Pinterest Digg Linkedin Reddit Stumbleu...  FAKE          0  \n",
       "2  U.S. Secretary of State John F. Kerry said Mon...  REAL          1  \n",
       "3  — Kaydee King (@KaydeeKing) November 9, 2016 T...  FAKE          0  \n",
       "4  It's primary day in New York and front-runners...  REAL          1  "
      ]
     },
     "execution_count": 6,
     "metadata": {},
     "output_type": "execute_result"
    }
   ],
   "source": [
    "dataset.head()"
   ]
  },
  {
   "cell_type": "code",
   "execution_count": 7,
   "id": "52954ffd",
   "metadata": {},
   "outputs": [],
   "source": [
    "X = dataset.iloc[:,1:3].values\n",
    "y = dataset.iloc[:,-1].values"
   ]
  },
  {
   "cell_type": "code",
   "execution_count": 8,
   "id": "4e33d3f1",
   "metadata": {
    "scrolled": true
   },
   "outputs": [
    {
     "data": {
      "text/html": [
       "<style type=\"text/css\">\n",
       "#T_fa524 thead>tr>th {\n",
       "  text-align: left;\n",
       "}\n",
       "#T_fa524_row0_col0, #T_fa524_row1_col0, #T_fa524_row2_col0, #T_fa524_row3_col0, #T_fa524_row4_col0 {\n",
       "  text-align: left;\n",
       "  font-size: 12px;\n",
       "  vertical-align: middle;\n",
       "  width: 5%;\n",
       "  max-width: 50px;\n",
       "  min-width: 20px;\n",
       "}\n",
       "#T_fa524_row0_col1, #T_fa524_row1_col1, #T_fa524_row2_col1, #T_fa524_row3_col1, #T_fa524_row4_col1 {\n",
       "  text-align: left;\n",
       "  font-size: 12px;\n",
       "  vertical-align: middle;\n",
       "  width: 15%;\n",
       "  max-width: 200px;\n",
       "  min-width: 100px;\n",
       "  word-break: break-word;\n",
       "}\n",
       "#T_fa524_row0_col2, #T_fa524_row1_col2, #T_fa524_row2_col2, #T_fa524_row3_col2, #T_fa524_row4_col2 {\n",
       "  text-align: left;\n",
       "  font-size: 12px;\n",
       "  vertical-align: middle;\n",
       "  width: 30%;\n",
       "  min-width: 100px;\n",
       "}\n",
       "#T_fa524_row0_col3, #T_fa524_row1_col3, #T_fa524_row2_col3, #T_fa524_row3_col3, #T_fa524_row4_col3 {\n",
       "  text-align: left;\n",
       "  font-size: 12px;\n",
       "  vertical-align: middle;\n",
       "  width: 25%;\n",
       "  min-width: 100px;\n",
       "}\n",
       "#T_fa524_row0_col4, #T_fa524_row1_col4, #T_fa524_row2_col4, #T_fa524_row3_col4, #T_fa524_row4_col4 {\n",
       "  text-align: left;\n",
       "  font-size: 12px;\n",
       "  vertical-align: middle;\n",
       "  width: 20%;\n",
       "  min-width: 150px;\n",
       "}\n",
       "#T_fa524_row0_col5, #T_fa524_row1_col5, #T_fa524_row2_col5, #T_fa524_row3_col5, #T_fa524_row4_col5 {\n",
       "  text-align: left;\n",
       "  font-size: 12px;\n",
       "  vertical-align: middle;\n",
       "  width: 10%;\n",
       "}\n",
       "</style>\n",
       "<table id=\"T_fa524\">\n",
       "  <caption><strong>Data Frame Summary</strong><br>dataset<br>Dimensions: 6,335 x 5<br>Duplicates: 0</caption>\n",
       "  <thead>\n",
       "    <tr>\n",
       "      <th id=\"T_fa524_level0_col0\" class=\"col_heading level0 col0\" >No</th>\n",
       "      <th id=\"T_fa524_level0_col1\" class=\"col_heading level0 col1\" >Variable</th>\n",
       "      <th id=\"T_fa524_level0_col2\" class=\"col_heading level0 col2\" >Stats / Values</th>\n",
       "      <th id=\"T_fa524_level0_col3\" class=\"col_heading level0 col3\" >Freqs / (% of Valid)</th>\n",
       "      <th id=\"T_fa524_level0_col4\" class=\"col_heading level0 col4\" >Graph</th>\n",
       "      <th id=\"T_fa524_level0_col5\" class=\"col_heading level0 col5\" >Missing</th>\n",
       "    </tr>\n",
       "  </thead>\n",
       "  <tbody>\n",
       "    <tr>\n",
       "      <td id=\"T_fa524_row0_col0\" class=\"data row0 col0\" >1</td>\n",
       "      <td id=\"T_fa524_row0_col1\" class=\"data row0 col1\" ><strong>Unnamed: 0</strong><br>[int64]</td>\n",
       "      <td id=\"T_fa524_row0_col2\" class=\"data row0 col2\" >Mean (sd) : 5280.4 (3038.5)<br>min < med < max:<br>2.0 < 5271.0 < 10557.0<br>IQR (CV) : 5226.5 (1.7)</td>\n",
       "      <td id=\"T_fa524_row0_col3\" class=\"data row0 col3\" >6,335 distinct values</td>\n",
       "      <td id=\"T_fa524_row0_col4\" class=\"data row0 col4\" ><img src = \"data:image/png;base64, iVBORw0KGgoAAAANSUhEUgAAAKoAAABGCAYAAABc8A97AAAAOXRFWHRTb2Z0d2FyZQBNYXRwbG90bGliIHZlcnNpb24zLjUuMiwgaHR0cHM6Ly9tYXRwbG90bGliLm9yZy8qNh9FAAAACXBIWXMAAA9hAAAPYQGoP6dpAAACsklEQVR4nO3YsU8aYRjH8ecF1BehdwEpbiwdTTqQuLB069g/tmu3kkDS2aFLJxdjQk4IVw3nlQ7GpJPw3iuFX/x+Zh/v5Z6vB+LW67UBh6627wMA22js+wCHyjnXNLPjiuOr9Xp9/5rnees2hvoWF+aca56dnX1JkqRTZX6xWGTOua9VXnvk/TZ7epf8U3H2YPf1Yqj7XFisyIUn7Xa7PxqNFmmaPoQMzudzPx6P+7PZrOecWwRe13e73c9pmrYC58zMrCzLozzPP7Tb7V+1Wq0Inb+7u1s6576ZWdBr/sfOQt/0RD1OkqQzGo3uqyxsMpl0ZrPZsZlVOnxEbFELL4rCl2V5cXJy8r3f7/8Omc3z/Kgoio+DwaBer9eD7llRFN7MLi4vL3/0er3QyO36+rpzdXX1fjgc/jw/P89CZm9ubt5Np9NPg8GgF3ruZ7t8MG31GTVN04fQhZmZlWWZmFninAs+mEXE9koLP318fKyHzq5Wq4b3/nQ4HD6ExvJ8Xe99UeV+Z1nWNDNrtVrB+8qyrFn13GbR7yRmG57GO/tnKubJYhYX22stPEbVWGKvG6vKuc3i973pabyzUGOeLGZxsR3Cwt+amH1v8zFx519PVf0LJTZNVfdtZi/umy/8IYFQIYFQIYFQIYFQIYFQIYFQIYFQIYFQIYFQIYFQIYFQIYFQIYFQIYFQIYFQIYFQIYFQIYFQIYFQIYFQIYFQIYFQIYFQIYFQIYFQIYFQIYFQIYFQIYFQIYFQIYFQIYFQIYFQIYFQIYFQIYFQIYFQIYFQIYFQIYFQIYFQIYFQIYFQIYFQIYFQIYFQIYFQIYFQIYFQIYFQIYFQIYFQIYFQIYFQIYFQIYFQIYFQIYFQIaGxzQ/N53Mf+ouXy6U3M8vz3N/e3p7+z3nVa6ueO3Z+m77+AohqYUMrnT0aAAAAAElFTkSuQmCC\"></img></td>\n",
       "      <td id=\"T_fa524_row0_col5\" class=\"data row0 col5\" >0<br>(0.0%)</td>\n",
       "    </tr>\n",
       "    <tr>\n",
       "      <td id=\"T_fa524_row1_col0\" class=\"data row1 col0\" >2</td>\n",
       "      <td id=\"T_fa524_row1_col1\" class=\"data row1 col1\" ><strong>title</strong><br>[object]</td>\n",
       "      <td id=\"T_fa524_row1_col2\" class=\"data row1 col2\" >1. OnPolitics | 's politics blog<br>2. Michael Moore Owes Me $4.99<br>3. Hillary’s “Big Tent” is Obama’<br>4. Get Ready For Civil Unrest: Su<br>5. The Dark Agenda Behind Globali<br>6. Donald Trump is blatantly raci<br>7. Guardian Front Page: “A 16-Yea<br>8. Schools All Over America Are C<br>9. Tony Blair suggests a second r<br>10. Saudi ambassador to the UAE: A<br>11. other</td>\n",
       "      <td id=\"T_fa524_row1_col3\" class=\"data row1 col3\" >5 (0.1%)<br>3 (0.0%)<br>3 (0.0%)<br>3 (0.0%)<br>2 (0.0%)<br>2 (0.0%)<br>2 (0.0%)<br>2 (0.0%)<br>2 (0.0%)<br>2 (0.0%)<br>6,309 (99.6%)</td>\n",
       "      <td id=\"T_fa524_row1_col4\" class=\"data row1 col4\" ><img src = \"data:image/png;base64, iVBORw0KGgoAAAANSUhEUgAAAJsAAAD+CAYAAAAtWHdlAAAAOXRFWHRTb2Z0d2FyZQBNYXRwbG90bGliIHZlcnNpb24zLjUuMiwgaHR0cHM6Ly9tYXRwbG90bGliLm9yZy8qNh9FAAAACXBIWXMAAA9hAAAPYQGoP6dpAAADQklEQVR4nO3cwWkbYRRG0TdCJPZGQghUQtKDisg2HauINGGkReJ44yyCS8gdmJxTwb+48BDMp+X9/X2gsFv7Afw/xEZGbGTERkZsZMRGRmxkxEZGbGTERma3LMvXZVme1n4I27ebmS8z83nth7B9zigZsZERGxmxkREbGbGRERsZsZERGxmxkREbGbGRERsZsZERGxmxkdnNzI+Z+b32Q9i+xb8YUXFGyYiNjHUVGesqMs4oGbGRERsZsZERGxmxkREbGbGRERsZsZERGxmxkREbGbGRERsZgxcyBi9knFEyYiNj8ELG4IWMM0pGbGTERkZsZMRGRmxkxEZGbGTERkZsZMRGRmxkxEZGbGTERsbghYzBCxlnlIzYyIiNjHUVGesqMs4oGbGRERsZsZERGxmxkREbGbGRERsZsZERGxmxkREbGbGRERsZ6yoy1lVknFEyYiNj8ELG4IWMM0pGbGTERkZsZMRGRmxkxEZGbGTERkZsZMRGRmxkxEZGbGTERsbghYzBCxlnlIzYyBi8kDF4IeOMkhEbGbGRERsZsZERGxmxkREbGbGRERsZsZERGxmxkREbGbGRERsZ6yoy1lVknFEyYiNjXUXGuoqMM0pGbGTERkZsZMRGRmxkxEZGbGTERkZsZMRGRmxkxEZGbGTERsbghYzBCxlnlIzYyBi8kDF4IeOMkhEbGbGRERsZsZERGxmxkREbGbGRERsZsZERGxmxkREbGbGRMXghY/BCxhklIzYyYiNjXUXGuoqMM0pGbGTERkZsZMRGRmxkxEZGbGTERkZsZMRGRmxkxEZGbGTERsa6iox1FRlnlIzYyBi8kDF4IeOMkhEbGbGRERsZsZERGxmxkREbGbGRERsZsZERGxmxkREbGbGRMXghY/BCxhkls8zM88x8WvshbN7b/nw+fzscDqe1X8K2PR6Pl/3hcDhdr9dfx+Pxde0HsU33+/3pdrud9jMzx+Px9XK5/Fz7UWzasx8IZMRGRmxkxEZGbGTERkZsZMRGRmxkxEZGbGTERkZsZPYzfz8BWfshbNdHX8v5fP7u40n+tcfj8eKzcCpv1lVk/EAgIzYyYiMjNjJiIyM2MmIjIzYyYiPzB0WpV2yec8bJAAAAAElFTkSuQmCC\"></img></td>\n",
       "      <td id=\"T_fa524_row1_col5\" class=\"data row1 col5\" >0<br>(0.0%)</td>\n",
       "    </tr>\n",
       "    <tr>\n",
       "      <td id=\"T_fa524_row2_col0\" class=\"data row2 col0\" >3</td>\n",
       "      <td id=\"T_fa524_row2_col1\" class=\"data row2 col1\" ><strong>text</strong><br>[object]</td>\n",
       "      <td id=\"T_fa524_row2_col2\" class=\"data row2 col2\" >1. Killing Obama administration r<br>2.  <br>3. A verdict in 2017 could have s<br>4. The election in 232 photos, 43<br>5. On this day in 1973, J. Fred B<br>6. Top Dems want White House to c<br>7. Click Here To Learn More About<br>8. Notable names include Ray Wash<br>9. \"One should not insist on nail<br>10. Leave a Reply Click here to ge<br>11. other</td>\n",
       "      <td id=\"T_fa524_row2_col3\" class=\"data row2 col3\" >58 (0.9%)<br>36 (0.6%)<br>23 (0.4%)<br>17 (0.3%)<br>12 (0.2%)<br>12 (0.2%)<br>10 (0.2%)<br>9 (0.1%)<br>8 (0.1%)<br>8 (0.1%)<br>6,142 (97.0%)</td>\n",
       "      <td id=\"T_fa524_row2_col4\" class=\"data row2 col4\" ><img src = \"data:image/png;base64, iVBORw0KGgoAAAANSUhEUgAAAJsAAAD+CAYAAAAtWHdlAAAAOXRFWHRTb2Z0d2FyZQBNYXRwbG90bGliIHZlcnNpb24zLjUuMiwgaHR0cHM6Ly9tYXRwbG90bGliLm9yZy8qNh9FAAAACXBIWXMAAA9hAAAPYQGoP6dpAAADoElEQVR4nO3cQWojVxhG0b+McNqTEkLgJSR78CJ6sb0ILSJ7MMY1iDueKIMEYtKdSaBvgXLOyGj0Bhc9SdTn5Xq9DhTu9j4A/x9iIyM2MmIjIzYyYiMjNjJiIyM2MsvMPMzMXK/Xt53Pwo07nM/nzzMzy7J8ERw/0t26rqd1XU8zc7/3YbhtPrORERsZsZERGxmxkREbGbGRERsZsZERGxmxkREbGbGRERsZsZERG5nDtm0vf/39vutJuHk2CGQW/zKLinc2MtZVZKyryPjpg4zYyIiNjNjIiI2M2MiIjYzYyIiNjNjIiI2M2MiIjYzYyIiNjMELGY+FkzF4IeOdjYzBCxmDFzJ++iAjNjJiIyM2MmIjIzYyYiMjNjJiIyM2MmIjIzYyYiMjNjJiI2PwQsZj4WQMXsj4zEZGbGTulmX5ZVmWT3sfhNt3NzM/z8xPex+E2+caJSM2MmIjIzYyYiMjNjJiIyM2MmIjIzYyYiMjNjJiIyM2MmIjczczv87M73sfhNtn8ELGNUpGbGQMXsgYvJBxjZIRGxmxkREbGbGRERsZsZERGxmxkREbGbGRERsZsZERGxmxkTF4IWPwQsY1SkZsZAxeyBi8kHGNkhEbGbGRERsZsZERGxmxkREbGbGRERsZsZERGxmxkREbGbGRERsZ6yoy1lVkXKNkxEbGuoqMdRUZ1ygZsZERGxmxkREbGbGRERsZsZERGxmxkREbGbGRERsZsZERGxmDFzIGL2Rco2TERsbghYzBCxnXKBmxkREbGbGRERsZsZERGxmxkREbGbGRERsZsZERGxmxkREbGYMXMgYvZFyjZMRGRmxkrKvIWFeRcY2SERsZsZERGxmxkREbGbGRERsZsZERGxmxkREbGbGRERsZsZGxriJjXUXGNUpGbGQMXsgYvJBxjZIRGxmxkREbGbGRERsZsZERGxmxkREbGbGRERsZsZERGxmxkTF4IWPwQsY1SmaZmYeZud/7INyc9+v1+vbxhcP5fP68rutprxNxm7Zte1mW5cvH4A7rup6enp7ejsfj1z0Px+14fX39dLlcTs/Pz/cz83dsMzPH4/Hr4+Pjb7udjlv08M8XfEEgIzYyYiMjNjJiIyM2MmIjIzYyYiMjNjJiIyM2MmIjc5j585GQvQ/C7fi3ng7btr1cLpfTfOeREPivtm17mZn3j695LJwf5ZvHwq2ryPiCQEZsZMRGRmxkxEZGbGTERkZsZMRG5g//Y5666t8WrwAAAABJRU5ErkJggg==\"></img></td>\n",
       "      <td id=\"T_fa524_row2_col5\" class=\"data row2 col5\" >0<br>(0.0%)</td>\n",
       "    </tr>\n",
       "    <tr>\n",
       "      <td id=\"T_fa524_row3_col0\" class=\"data row3 col0\" >4</td>\n",
       "      <td id=\"T_fa524_row3_col1\" class=\"data row3 col1\" ><strong>label</strong><br>[object]</td>\n",
       "      <td id=\"T_fa524_row3_col2\" class=\"data row3 col2\" >1. REAL<br>2. FAKE</td>\n",
       "      <td id=\"T_fa524_row3_col3\" class=\"data row3 col3\" >3,171 (50.1%)<br>3,164 (49.9%)</td>\n",
       "      <td id=\"T_fa524_row3_col4\" class=\"data row3 col4\" ><img src = \"data:image/png;base64, iVBORw0KGgoAAAANSUhEUgAAAJsAAAAuCAYAAAA/ZmtKAAAAOXRFWHRTb2Z0d2FyZQBNYXRwbG90bGliIHZlcnNpb24zLjUuMiwgaHR0cHM6Ly9tYXRwbG90bGliLm9yZy8qNh9FAAAACXBIWXMAAA9hAAAPYQGoP6dpAAABN0lEQVR4nO3bwYnDMBRF0a8gwmQjYQwuxkVMsSlC3RhjLZKQjWYxDcR/8YTIPRV8zMWQ4BdaawYoBDO7mdm19yEDerfWnr2PGEmc5/k3pTT1PmQ0tdY9hHAnuM/FlNK0rusz5/zqfcwojuP4KaVM27ZdzYzYPhTNzHLOr2VZHr2PGcyt9wGjufQ+AN+D2CBDbJAhNsgQG2SIDTLEBhligwyxQYbYIENskCE2yBAbZIgNMsQGmWj2/zFg70NGwvPyibXWvZQyGR8DnlJr3c3s3fuOkTB48WPwclJgygcV3mw+vNUcmPI5MOPzYcp3EjM+P6Z8Pvxyd+BPXcgQG2SIDTLEBhligwyxQYbYIENskCE2yBAbZIgNMsQGGWKDDLFBhtggw5TvJJ6VH1M+B2Z8PgxefBi8OPwBCltq31np+ZoAAAAASUVORK5CYII=\"></img></td>\n",
       "      <td id=\"T_fa524_row3_col5\" class=\"data row3 col5\" >0<br>(0.0%)</td>\n",
       "    </tr>\n",
       "    <tr>\n",
       "      <td id=\"T_fa524_row4_col0\" class=\"data row4 col0\" >5</td>\n",
       "      <td id=\"T_fa524_row4_col1\" class=\"data row4 col1\" ><strong>new_label</strong><br>[int64]</td>\n",
       "      <td id=\"T_fa524_row4_col2\" class=\"data row4 col2\" >Mean (sd) : 0.5 (0.5)<br>min < med < max:<br>0.0 < 1.0 < 1.0<br>IQR (CV) : 1.0 (1.0)</td>\n",
       "      <td id=\"T_fa524_row4_col3\" class=\"data row4 col3\" >2 distinct values</td>\n",
       "      <td id=\"T_fa524_row4_col4\" class=\"data row4 col4\" ><img src = \"data:image/png;base64, iVBORw0KGgoAAAANSUhEUgAAAKoAAABGCAYAAABc8A97AAAAOXRFWHRTb2Z0d2FyZQBNYXRwbG90bGliIHZlcnNpb24zLjUuMiwgaHR0cHM6Ly9tYXRwbG90bGliLm9yZy8qNh9FAAAACXBIWXMAAA9hAAAPYQGoP6dpAAABdElEQVR4nO3XT2rCQBiH4ZkSRDcJIngYD9HD9hDeRsq4qKWg6abragKh/cnzrL/5s3iZkDqOY4H/7uWvLwCP6O4N1Fo3pZTVzP2/xnG8zFxLmCVb+TXUWutmt9u99n2/nXPy+Xx+r7W+ifX5Ld3KvRd11ff99nA4XIZh+JxycGttfTwet6fTaVVKEerzW7SVu5/+UkoZhuFzv99/TDn8x2bGGoIt1YqfKSIIlQhCJYJQiSBUIgiVCEIlglCJIFQiCJUIQiWCUIkgVCIIlQhCJYJQiSBUIgiVCEIlglCJIFQiCJUIQiWCUIkgVCIIlQhCJYJQiSBUIgiVCEIlglCJIFQiCJUIQiWCUIkgVCIIlQhCJYJQiSBUIgiVCEIlglCJIFQiCJUIQiWCUIkgVCIIlQhCJYJQiSBUIgiVCEIlglCJIFQiCJUIQiWCUIkgVCIIlQhCJUL3yFBrbT1149ba+nq9dqWUvtY6+WLE6W+3Wze3lXsz34wFTnUdaiT+AAAAAElFTkSuQmCC\"></img></td>\n",
       "      <td id=\"T_fa524_row4_col5\" class=\"data row4 col5\" >0<br>(0.0%)</td>\n",
       "    </tr>\n",
       "  </tbody>\n",
       "</table>\n"
      ],
      "text/plain": [
       "<pandas.io.formats.style.Styler at 0x15c25993760>"
      ]
     },
     "execution_count": 8,
     "metadata": {},
     "output_type": "execute_result"
    }
   ],
   "source": [
    "from summarytools import dfSummary\n",
    "dfSummary(dataset)"
   ]
  },
  {
   "cell_type": "code",
   "execution_count": 9,
   "id": "7e787f5c",
   "metadata": {},
   "outputs": [
    {
     "data": {
      "text/plain": [
       "array(['You Can Smell Hillary’s Fear',\n",
       "       'Watch The Exact Moment Paul Ryan Committed Political Suicide At A Trump Rally (VIDEO)',\n",
       "       'Kerry to go to Paris in gesture of sympathy', ...,\n",
       "       'Anti-Trump Protesters Are Tools of the Oligarchy     : Information',\n",
       "       'In Ethiopia, Obama seeks progress on peace, security in East Africa',\n",
       "       \"Jeb Bush Is Suddenly Attacking Trump. Here's Why That Matters\"],\n",
       "      dtype=object)"
      ]
     },
     "execution_count": 9,
     "metadata": {},
     "output_type": "execute_result"
    }
   ],
   "source": [
    "X[:,0]\n",
    "# X[0:3,1]"
   ]
  },
  {
   "cell_type": "markdown",
   "id": "2e7e1dde",
   "metadata": {},
   "source": [
    "# "
   ]
  },
  {
   "cell_type": "code",
   "execution_count": 10,
   "id": "37890c7f",
   "metadata": {},
   "outputs": [],
   "source": [
    "from gensim.models import Word2Vec\n",
    "from gensim.utils import  simple_preprocess\n",
    "\n",
    "tokenized_text = [simple_preprocess(text) for text in X[:,0]+' '+X[:,1]]\n",
    "# tokenized_text\n",
    "# Signature: simple_preprocess(doc, deacc=False, min_len=2, max_len=15)\n",
    "# Docstring:\n",
    "# Convert a document into a list of lowercase tokens, ignoring tokens \n",
    "# that are too short or too long. \n",
    "\n",
    "word2vec_model = Word2Vec(sentences=tokenized_text,min_count=1)\n",
    "# min_count=1, which means words that appear only once will also be included in the vocabulary.\n",
    "X_word2vec = []\n",
    "for i in tokenized_text:\n",
    "    vectors = [word2vec_model.wv[word] for word in i if word in word2vec_model.wv]\n",
    "    if vectors:\n",
    "        X_word2vec.append(sum(vectors)/len(vectors))\n",
    "    else:\n",
    "        X_word2vec.append([0] * word2vec.vector_size)\n",
    "X_word2vec = np.array(X_word2vec)"
   ]
  },
  {
   "cell_type": "code",
   "execution_count": 11,
   "id": "147e5090",
   "metadata": {},
   "outputs": [],
   "source": [
    "from sklearn.model_selection import train_test_split\n",
    "X_train,X_test,y_train,y_test = train_test_split(X_word2vec,y,test_size=0.2,random_state=0)"
   ]
  },
  {
   "cell_type": "code",
   "execution_count": 12,
   "id": "aec4bce2",
   "metadata": {},
   "outputs": [
    {
     "data": {
      "text/plain": [
       "GradientBoostingClassifier()"
      ]
     },
     "execution_count": 12,
     "metadata": {},
     "output_type": "execute_result"
    }
   ],
   "source": [
    "from sklearn.ensemble import GradientBoostingClassifier\n",
    "clf = GradientBoostingClassifier()\n",
    "clf.fit(X_train,y_train)"
   ]
  },
  {
   "cell_type": "code",
   "execution_count": 13,
   "id": "5b0d008a",
   "metadata": {},
   "outputs": [
    {
     "data": {
      "text/plain": [
       "MultinomialNB()"
      ]
     },
     "execution_count": 13,
     "metadata": {},
     "output_type": "execute_result"
    }
   ],
   "source": [
    "from sklearn.naive_bayes import MultinomialNB\n",
    "from sklearn.preprocessing import MinMaxScaler\n",
    "sc = MinMaxScaler()\n",
    "scaled_X_train = sc.fit_transform(X_train)\n",
    "scaled_X_test = sc.transform(X_test)\n",
    "nlf = MultinomialNB()\n",
    "nlf.fit(scaled_X_train,y_train)"
   ]
  },
  {
   "cell_type": "code",
   "execution_count": 14,
   "id": "c0010ac5",
   "metadata": {},
   "outputs": [
    {
     "data": {
      "text/plain": [
       "RandomForestClassifier(criterion='entropy', n_estimators=50, random_state=0)"
      ]
     },
     "execution_count": 14,
     "metadata": {},
     "output_type": "execute_result"
    }
   ],
   "source": [
    "from sklearn.ensemble import RandomForestClassifier\n",
    "rf = RandomForestClassifier(n_estimators = 50, criterion='entropy', random_state=0 )\n",
    "rf.fit(X_train,y_train)"
   ]
  },
  {
   "cell_type": "code",
   "execution_count": 15,
   "id": "7c866d36",
   "metadata": {},
   "outputs": [],
   "source": [
    "y_pred_rf = rf.predict(X_test) #Random Forest"
   ]
  },
  {
   "cell_type": "code",
   "execution_count": 16,
   "id": "d490e400",
   "metadata": {},
   "outputs": [],
   "source": [
    "y_pred = clf.predict(X_test) # gradientboosting"
   ]
  },
  {
   "cell_type": "code",
   "execution_count": 17,
   "id": "bd0a54e8",
   "metadata": {},
   "outputs": [],
   "source": [
    "y_pred_nv = nlf.predict(scaled_X_test) # naive bayes"
   ]
  },
  {
   "cell_type": "code",
   "execution_count": 18,
   "id": "f2dd4b3e",
   "metadata": {},
   "outputs": [
    {
     "data": {
      "text/plain": [
       "array([1, 1, 0, ..., 1, 1, 0], dtype=int64)"
      ]
     },
     "execution_count": 18,
     "metadata": {},
     "output_type": "execute_result"
    }
   ],
   "source": [
    "y_pred"
   ]
  },
  {
   "cell_type": "code",
   "execution_count": 19,
   "id": "149ff50c",
   "metadata": {},
   "outputs": [
    {
     "data": {
      "text/plain": [
       "array([1, 1, 0, ..., 0, 1, 0], dtype=int64)"
      ]
     },
     "execution_count": 19,
     "metadata": {},
     "output_type": "execute_result"
    }
   ],
   "source": [
    "y_pred_nv"
   ]
  },
  {
   "cell_type": "code",
   "execution_count": 20,
   "id": "02ca912e",
   "metadata": {},
   "outputs": [
    {
     "data": {
      "text/plain": [
       "array([1, 1, 0, ..., 1, 1, 0], dtype=int64)"
      ]
     },
     "execution_count": 20,
     "metadata": {},
     "output_type": "execute_result"
    }
   ],
   "source": [
    "y_pred_rf"
   ]
  },
  {
   "cell_type": "code",
   "execution_count": 21,
   "id": "38d3df12",
   "metadata": {},
   "outputs": [
    {
     "data": {
      "text/plain": [
       "array([1, 0, 0, ..., 0, 1, 1], dtype=int64)"
      ]
     },
     "execution_count": 21,
     "metadata": {},
     "output_type": "execute_result"
    }
   ],
   "source": [
    "y_test"
   ]
  },
  {
   "cell_type": "code",
   "execution_count": 22,
   "id": "f86c20d1",
   "metadata": {},
   "outputs": [
    {
     "name": "stdout",
     "output_type": "stream",
     "text": [
      "              precision    recall  f1-score   support\n",
      "\n",
      "           0       0.87      0.86      0.86       615\n",
      "           1       0.87      0.88      0.87       652\n",
      "\n",
      "    accuracy                           0.87      1267\n",
      "   macro avg       0.87      0.87      0.87      1267\n",
      "weighted avg       0.87      0.87      0.87      1267\n",
      "\n",
      "[[526  89]\n",
      " [ 80 572]]\n"
     ]
    }
   ],
   "source": [
    "from sklearn.metrics import classification_report,confusion_matrix\n",
    "cr = classification_report(y_test,y_pred)\n",
    "cm = confusion_matrix(y_test,y_pred)\n",
    "print(cr)\n",
    "print(cm) #Gradient Boosting"
   ]
  },
  {
   "cell_type": "code",
   "execution_count": 23,
   "id": "c48e12b3",
   "metadata": {},
   "outputs": [
    {
     "name": "stdout",
     "output_type": "stream",
     "text": [
      "              precision    recall  f1-score   support\n",
      "\n",
      "           0       0.72      0.83      0.77       615\n",
      "           1       0.81      0.70      0.75       652\n",
      "\n",
      "    accuracy                           0.76      1267\n",
      "   macro avg       0.77      0.76      0.76      1267\n",
      "weighted avg       0.77      0.76      0.76      1267\n",
      "\n",
      "[[510 105]\n",
      " [197 455]]\n"
     ]
    }
   ],
   "source": [
    "from sklearn.metrics import classification_report,confusion_matrix\n",
    "crnv = classification_report(y_test,y_pred_nv)\n",
    "cmnv = confusion_matrix(y_test,y_pred_nv)\n",
    "print(crnv)\n",
    "print(cmnv) # Multinomial Naive bayes"
   ]
  },
  {
   "cell_type": "code",
   "execution_count": 24,
   "id": "c9d9dacb",
   "metadata": {},
   "outputs": [
    {
     "name": "stdout",
     "output_type": "stream",
     "text": [
      "              precision    recall  f1-score   support\n",
      "\n",
      "           0       0.84      0.85      0.85       615\n",
      "           1       0.86      0.85      0.85       652\n",
      "\n",
      "    accuracy                           0.85      1267\n",
      "   macro avg       0.85      0.85      0.85      1267\n",
      "weighted avg       0.85      0.85      0.85      1267\n",
      "\n",
      "[[524  91]\n",
      " [101 551]]\n"
     ]
    }
   ],
   "source": [
    "from sklearn.metrics import classification_report,confusion_matrix\n",
    "crrf = classification_report(y_test,y_pred_rf)\n",
    "cmrf = confusion_matrix(y_test,y_pred_rf)\n",
    "print(crrf)\n",
    "print(cmrf) #Random Forest"
   ]
  },
  {
   "cell_type": "code",
   "execution_count": 25,
   "id": "d8f102b4",
   "metadata": {},
   "outputs": [],
   "source": [
    "predict_labels = [\"FAKE\" if pred == 0 else \"REAL\" for pred in y_pred]"
   ]
  },
  {
   "cell_type": "code",
   "execution_count": 26,
   "id": "9844dcd5",
   "metadata": {},
   "outputs": [],
   "source": [
    "def predict_label(title,text):\n",
    "    token_title = simple_preprocess(title)\n",
    "    token_text = simple_preprocess(text)\n",
    "    \n",
    "    title_vectors = [word2vec_model.wv[word] for word in token_title if word in word2vec_model.wv]\n",
    "    text_vectors = [word2vec_model.wv[word] for word in token_text if word in word2vec_model.wv]\n",
    "    \n",
    "    title_avg_vectors = sum(title_vectors)/len(title_vectors) if title_vectors else [0]*50\n",
    "    text_avg_vectors = sum(text_vectors)/len(text_vectors) if text_vectors else [0]*50\n",
    "    \n",
    "    input_vectors = np.concatenate((title_avg_vectors,text_avg_vectors))\n",
    "    input_vectors = input_vectors[:100]    \n",
    "    input_vectors = input_vectors.reshape(1,-1)\n",
    "    \n",
    "    prediction = clf.predict(input_vectors)\n",
    "    \n",
    "    label = \"FAKE\" if prediction == 0 else \"REAL\"\n",
    "    \n",
    "    return label"
   ]
  },
  {
   "cell_type": "code",
   "execution_count": 27,
   "id": "e320d7ec",
   "metadata": {},
   "outputs": [
    {
     "name": "stdout",
     "output_type": "stream",
     "text": [
      "Predicted Label: REAL\n"
     ]
    }
   ],
   "source": [
    "title12 = \"State Department will not release 22 'top secret' Clinton emails\"\n",
    "text12 = '''\"(CNN) The State Department announced Friday that it will not release 22 emails from former Secretary of State Hillary Clinton because they contain \"\"top secret\"\" information, the highest level of government classification.\n",
    "\n",
    "The decision, coming three days before the Iowa caucuses, could provide fodder for Clinton's political opponents, especially Republicans, who are likely to make note of the emails' \"\"top secret\"\" designation. Clinton's email use has haunted her on the campaign trail since it became public early last year that she maintained a private server while leading the State Department.\n",
    "\n",
    "State Department spokesman John Kirby said the documents, totaling 37 pages, were not marked classified at the time they were sent, but are being upgraded at the request of the Intelligence Community because they contain sensitive information.\n",
    "\n",
    "But, Kirby said, a separate review by the bureaus of Diplomatic Security and Intelligence and Research is being held into whether the information in the emails was classified at the time they were sent and received. He would not say when the review began or how long it would go, and acknowledged it's possible there could be classified emails that weren't marked as such.\n",
    "\n",
    "\"\"It's certainly possible that for any number of reasons, traffic can be sent that's not marked appropriately for its classification. That is certainly possible,\"\" Kirby said.\n",
    "\n",
    "But he added that he wasn't going to make any judgments about this particular case.\n",
    "\n",
    "\"\"All I can tell you definitively is it wasn't marked classified at the time it was sent,\"\" Kirby said.\n",
    "\n",
    "A senior State Department official said the review \"\"began very recently\"\" and was initiated by the State Department, but the official wouldn't say what prompted it.\n",
    "\n",
    "A spokesperson for the Intelligence Community's inspector general declined to comment.\n",
    "\n",
    "Kirby also said 18 emails, comprised of eight email chains between Clinton and President Barack Obama, are being \"\"withheld in full\"\" to \"\"protect the President's ability to receive unvarnished advice and counsel.\"\" But, Kirby said, they \"\"have not been determined to be classified\"\" and said they will \"\"ultimately be released in accordance with the Presidential records act.\"\"\n",
    "\n",
    "\"\"I'd love for people to see what I did and I hope that will happen,\"\" she said.\n",
    "\n",
    "Brian Fallon, a spokesman for Clinton's campaign, said in a statement that Friday's announcement was a case of \"\"over-classification run amok\"\" and reiterated Clinton's position that the emails be made public.\n",
    "\n",
    "But later Friday, Fallon declined to say whether Clinton would ask Obama to declassify the emails when pressed by CNN's Wolf Blitzer on \"\"The Situation Room.\"\"\n",
    "\n",
    "\"\"The President easily could declassify all of these emails if she asked him and if he agreed, right?\"\" Blitzer asked.\n",
    "\n",
    "\"\"I'd really be surprised if this has risen to the President's level,\"\" Fallon replied. \"\"Because, again, this a mundane matter of fulfilling a FOIA request.\"\"\n",
    "\n",
    "Asked Friday if he had \"\"certainty and confidence\"\" that Clinton will not be indicted over the email controversy, White House Press Secretary Josh Earnest said any decision to prosecute Clinton would rest with the Justice Department.\n",
    "\n",
    "\"\"That is a decision to be made solely by independent prosecutors,\"\" Earnest said. \"\"But again, based on what we know from the Department of Justice, it does not seem to be headed in that direction.\"\"\n",
    "\n",
    "The State Department released more than 900 of Clinton's emails Friday -- 242 of which received classification upgrades: 11 to \"\"secret\"\" and 209 more to \"\"confidential,\"\" along with the 22 emails containing \"\"top secret\"\" information -- but the release fell well behind the judge-imposed timetable for producing all of her emails.\n",
    "\n",
    "Among the most interesting correspondence:\n",
    "\n",
    "This month's release was supposed to be the final one and include just over 9,000 pages of documents -- the largest number to date.\n",
    "\n",
    "That delay was then compounded by a huge snowstorm that shut down the federal government for several days, according to the State Department's motion.\n",
    "\n",
    "Several prominent Republicans, including presidential hopefuls, quickly condemned Clinton, the Democratic 2016 front-runner, over Friday's developments.\n",
    "\n",
    "\"\"The new e-mail release is a disaster for Hillary Clinton. At a minimum, how can someone with such bad (judgment) be our next president?\"\" GOP front-runner Donald Trump tweeted.\n",
    "\n",
    "Florida Sen. Marco Rubio said Clinton's email use was a \"\"disqualifier\"\" for the White House.\n",
    "\n",
    "\"\"Hillary Clinton put some of the highest, most sensitive intelligence information on her private server because maybe she thinks she's above the law,\"\" Rubio said at a town hall event in Clinton, Iowa.\n",
    "\n",
    "Texas Sen. Ted Cruz told conservative radio host Hugh Hewitt that Clinton's email controversy would seriously imperil her presidential aspirations.\n",
    "\n",
    "\"\"We are talking about serious offenses for which the Obama Justice Department threw the book at General (David) Petraeus,\"\" Cruz said. \"\"And justice needs to be enforced fairly and impartially.\"\"\n",
    "\n",
    "And Republican National Committee Chairman Reince Priebus tweeted that Clinton and the Obama administration have \"\"obfuscated and misled at every available opportunity,\"\" adding that she has \"\"removed all doubt that she cannot be trusted with the presidency.\"\"\n",
    "\n",
    "But Rep. Adam Schiff, D-California, the ranking Democrat on the House Intelligence Committee, said classification determinations \"\"are often very complex.\"\"\n",
    "\n",
    "\"\"It's important to remember that none of these emails had any classification markings at the time they were sent, and Secretary Clinton and her staff were responding to world events in real time without the benefit of months of analysis after the fact,\"\" Schiff said.\n",
    "\n",
    "Meanwhile, Clinton's top Democratic 2016 rival, Vermont Sen. Bernie Sanders, said in a statement that \"\"there is a legal process in place which should proceed and not be politicized.\"\"\n",
    "\n",
    "\"\"The American people are sick and tired of hearing about your damn emails,\"\" he said then to applause.\"\n",
    "\n",
    "'''\n",
    "predicted_label = predict_label(title12, text12)\n",
    "print(\"Predicted Label:\", predicted_label)"
   ]
  },
  {
   "cell_type": "code",
   "execution_count": 28,
   "id": "0e4fd7ee",
   "metadata": {},
   "outputs": [],
   "source": [
    "import gradio as gr"
   ]
  },
  {
   "cell_type": "code",
   "execution_count": 29,
   "id": "65adf7af",
   "metadata": {},
   "outputs": [
    {
     "name": "stdout",
     "output_type": "stream",
     "text": [
      "Running on local URL:  http://127.0.0.1:7860\n",
      "\n",
      "To create a public link, set `share=True` in `launch()`.\n"
     ]
    },
    {
     "data": {
      "text/html": [
       "<div><iframe src=\"http://127.0.0.1:7860/\" width=\"100%\" height=\"500\" allow=\"autoplay; camera; microphone; clipboard-read; clipboard-write;\" frameborder=\"0\" allowfullscreen></iframe></div>"
      ],
      "text/plain": [
       "<IPython.core.display.HTML object>"
      ]
     },
     "metadata": {},
     "output_type": "display_data"
    },
    {
     "data": {
      "text/plain": []
     },
     "execution_count": 29,
     "metadata": {},
     "output_type": "execute_result"
    }
   ],
   "source": [
    "# title_input = gr.inputs.Textbox(lines = 1,label = \"Title\")\n",
    "# text_input = gr.inputs.Textbox(lines = 10,label = \"Text\")\n",
    "# output_label = gr.outputs.Textbox(label = \"Predictied Label\")\n",
    "\n",
    "interface = gr.Interface(fn= predict_label,\n",
    "            inputs=[\"text\", \"text\"],\n",
    "            outputs=\"text\",\n",
    "            title=\"FAKE NEWS DETECTION\",\n",
    "            description=\"Enter the title and text of the news to predict whether it is fake or real.\")\n",
    "interface.launch()"
   ]
  },
  {
   "cell_type": "code",
   "execution_count": null,
   "id": "89ecc1a1",
   "metadata": {},
   "outputs": [],
   "source": []
  }
 ],
 "metadata": {
  "kernelspec": {
   "display_name": "Python 3 (ipykernel)",
   "language": "python",
   "name": "python3"
  },
  "language_info": {
   "codemirror_mode": {
    "name": "ipython",
    "version": 3
   },
   "file_extension": ".py",
   "mimetype": "text/x-python",
   "name": "python",
   "nbconvert_exporter": "python",
   "pygments_lexer": "ipython3",
   "version": "3.11.7"
  }
 },
 "nbformat": 4,
 "nbformat_minor": 5
}
